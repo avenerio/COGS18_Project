{
 "cells": [
  {
   "cell_type": "markdown",
   "metadata": {},
   "source": [
    "# Project Description"
   ]
  },
  {
   "cell_type": "markdown",
   "metadata": {},
   "source": [
    "Project Description\n",
    "\n",
    "The outfit Matching Software is a program that helps a female college student choose what to wear to class depending on\n",
    "\n",
    "- the weather \n",
    "- the choice of top\n",
    "- color of the top (Note the color of the top should be one of the 5 primary colors: black, white, blue, yellow, or red). \n",
    "\n",
    "\n",
    "The goal is to return what kind of bottoms and shoes she should wear along with the color that will match the color of the top. This project is inspired on Cher Horowitz Outfit Computer Matching Program from the movie Clueless."
   ]
  },
  {
   "cell_type": "markdown",
   "metadata": {},
   "source": [
    "## Wish more time for...\n",
    "\n",
    "I would have liked to implement a function that includes all the colors of the spectrum and the colors that match each color that exists. I would have liked to have a program that only asks for the color and weather and figures out the correct combination of top & bottoms & shoes. I would have like to include a function to choose outerwear and accesories. "
   ]
  },
  {
   "cell_type": "code",
   "execution_count": 4,
   "metadata": {
    "scrolled": true
   },
   "outputs": [
    {
     "data": {
      "text/html": [
       "<iframe width=\"560\" height=\"315\" src=\"https://www.youtube.com/embed/XNDubWJU0aU\" frameborder=\"0\" allowfullscreen></iframe>"
      ],
      "text/plain": [
       "<IPython.core.display.HTML object>"
      ]
     },
     "execution_count": 4,
     "metadata": {},
     "output_type": "execute_result"
    }
   ],
   "source": [
    "from IPython.display import HTML\n",
    "\n",
    "# Youtube\n",
    "HTML('<iframe width=\"560\" height=\"315\" src=\"https://www.youtube.com/embed/XNDubWJU0aU\" frameborder=\"0\" allowfullscreen></iframe>')\n"
   ]
  },
  {
   "cell_type": "markdown",
   "metadata": {},
   "source": [
    "## Project Code\n",
    "\n",
    "If it makes sense for your project, you can have code and outputs here in the notebook as well."
   ]
  },
  {
   "cell_type": "code",
   "execution_count": 1,
   "metadata": {},
   "outputs": [
    {
     "name": "stdout",
     "output_type": "stream",
     "text": [
      "Hi, What is your name? Ana\n",
      "What is the temperature in farenheit? 75\n",
      "What kind of top do you want to wear? sweater\n",
      "What color is the top? blue\n",
      "Hello Ana your outfit is skirt and slides\n",
      "The color that matches with blue is yellow\n"
     ]
    }
   ],
   "source": [
    "import my_module.functions"
   ]
  },
  {
   "cell_type": "code",
   "execution_count": 7,
   "metadata": {},
   "outputs": [],
   "source": [
    "# test it out\n",
    "import my_module.test_functions as test\n",
    "\n",
    "test.test_weather()\n",
    "test.test_bottoms_shoes()\n",
    "test.test_colors_mix()"
   ]
  },
  {
   "cell_type": "markdown",
   "metadata": {},
   "source": [
    "#### Extra Credit (*optional*)\n",
    "\n",
    "Replace all of this text with a brief explanation (~3 sentences) of: \n",
    "- This is the first time I take a class on python. I took a class at my community college that was introduction to MATLAB but I left the class feeling like I hadn't learned anything. I am a beginer in python.\n",
    "- First way that my project went above and beyond is by choosing a project that was not similar to any other project, I tried looking at the examples but none of the projects felt like me. I challenged myself to look for an idea that I liked and represented me. The other way that I went above and beyond was looking for a way to include a video in the notebook. My inspiration was that clip of the movie and I wanted to include it, I didn't even know it was possible to include videos so I researched on my own until I found a way to do it."
   ]
  }
 ],
 "metadata": {
  "kernelspec": {
   "display_name": "Python 3 (ipykernel)",
   "language": "python",
   "name": "python3"
  },
  "language_info": {
   "codemirror_mode": {
    "name": "ipython",
    "version": 3
   },
   "file_extension": ".py",
   "mimetype": "text/x-python",
   "name": "python",
   "nbconvert_exporter": "python",
   "pygments_lexer": "ipython3",
   "version": "3.9.5"
  }
 },
 "nbformat": 4,
 "nbformat_minor": 2
}
